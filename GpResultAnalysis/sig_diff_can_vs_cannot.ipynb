{
 "cells": [
  {
   "cell_type": "code",
   "execution_count": 1,
   "metadata": {
    "collapsed": true,
    "pycharm": {
     "name": "#%%\n"
    }
   },
   "outputs": [],
   "source": [
    "import pandas as pd\n",
    "import json\n",
    "\n",
    "rival_pop_size = 8\n",
    "num_battles = 10\n",
    "total_battles = (rival_pop_size - 1) * num_battles"
   ]
  },
  {
   "cell_type": "code",
   "execution_count": 2,
   "outputs": [],
   "source": [
    "rival_results = json.load(open(\"..\\\\GpResults\\\\bestRivals.json\"))\n",
    "can_move_results = pd.DataFrame(rival_results['canMove'])\n",
    "can_move_results['Type'] = 'CanMove'\n",
    "cannot_move_results = pd.DataFrame(rival_results['cannotMove'])\n",
    "cannot_move_results['Type'] = 'CannotMove'\n",
    "merged_non_expanded = pd.concat([can_move_results, cannot_move_results])\n"
   ],
   "metadata": {
    "collapsed": false,
    "pycharm": {
     "name": "#%%\n"
    }
   }
  },
  {
   "cell_type": "code",
   "execution_count": 3,
   "outputs": [
    {
     "data": {
      "text/plain": "   Victories  NumberAlwaysWin  TurnsToWin  NumberAlwaysLose  TurnsToLose  \\\n0       37.0              7.0  132.026667               0.0   173.986667   \n1       46.0              7.0  182.740000               0.0   127.200000   \n2       38.0              7.0  149.133333               1.0   157.126667   \n3       55.0              7.0  207.760000               0.0    93.140000   \n4       50.0              7.0  199.860000               0.0   110.573333   \n5       51.0              7.0  197.853333               0.0   111.493333   \n6       51.0              7.0  206.660000               0.0   116.440000   \n7       39.0              7.0  159.200000               0.0   139.246667   \n0       39.0              7.0  143.293333               0.0   158.173333   \n1       34.0              7.0  130.840000               0.0   171.880000   \n2       29.0              7.0  111.760000               0.0   198.180000   \n3       55.0              7.0  206.700000               0.0   102.320000   \n4       33.0              7.0  128.433333               0.0   189.000000   \n5       31.0              7.0  116.386667               0.0   191.986667   \n6       31.0              7.0  118.173333               0.0   195.573333   \n7       19.0              8.0   73.620000               0.0   228.120000   \n\n         Type  \n0  CannotMove  \n1  CannotMove  \n2  CannotMove  \n3  CannotMove  \n4  CannotMove  \n5  CannotMove  \n6  CannotMove  \n7  CannotMove  \n0     CanMove  \n1     CanMove  \n2     CanMove  \n3     CanMove  \n4     CanMove  \n5     CanMove  \n6     CanMove  \n7     CanMove  ",
      "text/html": "<div>\n<style scoped>\n    .dataframe tbody tr th:only-of-type {\n        vertical-align: middle;\n    }\n\n    .dataframe tbody tr th {\n        vertical-align: top;\n    }\n\n    .dataframe thead th {\n        text-align: right;\n    }\n</style>\n<table border=\"1\" class=\"dataframe\">\n  <thead>\n    <tr style=\"text-align: right;\">\n      <th></th>\n      <th>Victories</th>\n      <th>NumberAlwaysWin</th>\n      <th>TurnsToWin</th>\n      <th>NumberAlwaysLose</th>\n      <th>TurnsToLose</th>\n      <th>Type</th>\n    </tr>\n  </thead>\n  <tbody>\n    <tr>\n      <th>0</th>\n      <td>37.0</td>\n      <td>7.0</td>\n      <td>132.026667</td>\n      <td>0.0</td>\n      <td>173.986667</td>\n      <td>CannotMove</td>\n    </tr>\n    <tr>\n      <th>1</th>\n      <td>46.0</td>\n      <td>7.0</td>\n      <td>182.740000</td>\n      <td>0.0</td>\n      <td>127.200000</td>\n      <td>CannotMove</td>\n    </tr>\n    <tr>\n      <th>2</th>\n      <td>38.0</td>\n      <td>7.0</td>\n      <td>149.133333</td>\n      <td>1.0</td>\n      <td>157.126667</td>\n      <td>CannotMove</td>\n    </tr>\n    <tr>\n      <th>3</th>\n      <td>55.0</td>\n      <td>7.0</td>\n      <td>207.760000</td>\n      <td>0.0</td>\n      <td>93.140000</td>\n      <td>CannotMove</td>\n    </tr>\n    <tr>\n      <th>4</th>\n      <td>50.0</td>\n      <td>7.0</td>\n      <td>199.860000</td>\n      <td>0.0</td>\n      <td>110.573333</td>\n      <td>CannotMove</td>\n    </tr>\n    <tr>\n      <th>5</th>\n      <td>51.0</td>\n      <td>7.0</td>\n      <td>197.853333</td>\n      <td>0.0</td>\n      <td>111.493333</td>\n      <td>CannotMove</td>\n    </tr>\n    <tr>\n      <th>6</th>\n      <td>51.0</td>\n      <td>7.0</td>\n      <td>206.660000</td>\n      <td>0.0</td>\n      <td>116.440000</td>\n      <td>CannotMove</td>\n    </tr>\n    <tr>\n      <th>7</th>\n      <td>39.0</td>\n      <td>7.0</td>\n      <td>159.200000</td>\n      <td>0.0</td>\n      <td>139.246667</td>\n      <td>CannotMove</td>\n    </tr>\n    <tr>\n      <th>0</th>\n      <td>39.0</td>\n      <td>7.0</td>\n      <td>143.293333</td>\n      <td>0.0</td>\n      <td>158.173333</td>\n      <td>CanMove</td>\n    </tr>\n    <tr>\n      <th>1</th>\n      <td>34.0</td>\n      <td>7.0</td>\n      <td>130.840000</td>\n      <td>0.0</td>\n      <td>171.880000</td>\n      <td>CanMove</td>\n    </tr>\n    <tr>\n      <th>2</th>\n      <td>29.0</td>\n      <td>7.0</td>\n      <td>111.760000</td>\n      <td>0.0</td>\n      <td>198.180000</td>\n      <td>CanMove</td>\n    </tr>\n    <tr>\n      <th>3</th>\n      <td>55.0</td>\n      <td>7.0</td>\n      <td>206.700000</td>\n      <td>0.0</td>\n      <td>102.320000</td>\n      <td>CanMove</td>\n    </tr>\n    <tr>\n      <th>4</th>\n      <td>33.0</td>\n      <td>7.0</td>\n      <td>128.433333</td>\n      <td>0.0</td>\n      <td>189.000000</td>\n      <td>CanMove</td>\n    </tr>\n    <tr>\n      <th>5</th>\n      <td>31.0</td>\n      <td>7.0</td>\n      <td>116.386667</td>\n      <td>0.0</td>\n      <td>191.986667</td>\n      <td>CanMove</td>\n    </tr>\n    <tr>\n      <th>6</th>\n      <td>31.0</td>\n      <td>7.0</td>\n      <td>118.173333</td>\n      <td>0.0</td>\n      <td>195.573333</td>\n      <td>CanMove</td>\n    </tr>\n    <tr>\n      <th>7</th>\n      <td>19.0</td>\n      <td>8.0</td>\n      <td>73.620000</td>\n      <td>0.0</td>\n      <td>228.120000</td>\n      <td>CanMove</td>\n    </tr>\n  </tbody>\n</table>\n</div>"
     },
     "execution_count": 3,
     "metadata": {},
     "output_type": "execute_result"
    }
   ],
   "source": [
    "expanded_can_move = pd.DataFrame(can_move_results)['fitnessLexicographic'].apply(pd.Series)\n",
    "expanded_can_move['Type'] = 'CanMove'\n",
    "expanded_can_move\n",
    "\n",
    "expanded_cannot_move = pd.DataFrame(cannot_move_results)['fitnessLexicographic'].apply(pd.Series)\n",
    "expanded_cannot_move['Type'] = 'CannotMove'\n",
    "expanded_cannot_move\n",
    "\n",
    "merged = pd.concat([expanded_cannot_move, expanded_can_move])\n",
    "merged.columns = ['Victories', \"NumberAlwaysWin\", \"TurnsToWin\", \"NumberAlwaysLose\", \"TurnsToLose\", \"Type\"]\n",
    "merged"
   ],
   "metadata": {
    "collapsed": false,
    "pycharm": {
     "name": "#%%\n"
    }
   }
  },
  {
   "cell_type": "code",
   "execution_count": 4,
   "outputs": [],
   "source": [
    "merged_dropped = merged.drop(['NumberAlwaysWin', 'NumberAlwaysLose'], axis=1)"
   ],
   "metadata": {
    "collapsed": false,
    "pycharm": {
     "name": "#%%\n"
    }
   }
  },
  {
   "cell_type": "code",
   "execution_count": 5,
   "outputs": [],
   "source": [
    "merged_dropped['TurnsToWin'] *= total_battles\n",
    "merged_dropped['TurnsToLose'] *= total_battles\n",
    "merged_dropped['TurnsToWin'] /= merged_dropped.Victories\n",
    "merged_dropped['TurnsToLose'] /= merged_dropped.Victories.apply(lambda x: total_battles - x)"
   ],
   "metadata": {
    "collapsed": false,
    "pycharm": {
     "name": "#%%\n"
    }
   }
  },
  {
   "cell_type": "code",
   "execution_count": 6,
   "outputs": [
    {
     "data": {
      "text/plain": "   Victories  TurnsToWin  TurnsToLose        Type\n0       37.0  249.780180   369.062626  CannotMove\n1       46.0  278.082609   371.000000  CannotMove\n2       38.0  274.719298   343.714583  CannotMove\n3       55.0  264.421818   434.653333  CannotMove\n4       50.0  279.804000   387.006667  CannotMove\n5       51.0  271.563399   410.764912  CannotMove\n6       51.0  283.650980   428.989474  CannotMove\n7       39.0  285.743590   314.427957  CannotMove\n0       39.0  257.193162   357.165591     CanMove\n1       34.0  269.376471   334.211111     CanMove\n2       29.0  269.765517   338.356098     CanMove\n3       55.0  263.072727   477.493333     CanMove\n4       33.0  272.434343   357.567568     CanMove\n5       31.0  262.808602   344.591453     CanMove\n6       31.0  266.843011   351.029060     CanMove\n7       19.0  271.231579   313.105882     CanMove",
      "text/html": "<div>\n<style scoped>\n    .dataframe tbody tr th:only-of-type {\n        vertical-align: middle;\n    }\n\n    .dataframe tbody tr th {\n        vertical-align: top;\n    }\n\n    .dataframe thead th {\n        text-align: right;\n    }\n</style>\n<table border=\"1\" class=\"dataframe\">\n  <thead>\n    <tr style=\"text-align: right;\">\n      <th></th>\n      <th>Victories</th>\n      <th>TurnsToWin</th>\n      <th>TurnsToLose</th>\n      <th>Type</th>\n    </tr>\n  </thead>\n  <tbody>\n    <tr>\n      <th>0</th>\n      <td>37.0</td>\n      <td>249.780180</td>\n      <td>369.062626</td>\n      <td>CannotMove</td>\n    </tr>\n    <tr>\n      <th>1</th>\n      <td>46.0</td>\n      <td>278.082609</td>\n      <td>371.000000</td>\n      <td>CannotMove</td>\n    </tr>\n    <tr>\n      <th>2</th>\n      <td>38.0</td>\n      <td>274.719298</td>\n      <td>343.714583</td>\n      <td>CannotMove</td>\n    </tr>\n    <tr>\n      <th>3</th>\n      <td>55.0</td>\n      <td>264.421818</td>\n      <td>434.653333</td>\n      <td>CannotMove</td>\n    </tr>\n    <tr>\n      <th>4</th>\n      <td>50.0</td>\n      <td>279.804000</td>\n      <td>387.006667</td>\n      <td>CannotMove</td>\n    </tr>\n    <tr>\n      <th>5</th>\n      <td>51.0</td>\n      <td>271.563399</td>\n      <td>410.764912</td>\n      <td>CannotMove</td>\n    </tr>\n    <tr>\n      <th>6</th>\n      <td>51.0</td>\n      <td>283.650980</td>\n      <td>428.989474</td>\n      <td>CannotMove</td>\n    </tr>\n    <tr>\n      <th>7</th>\n      <td>39.0</td>\n      <td>285.743590</td>\n      <td>314.427957</td>\n      <td>CannotMove</td>\n    </tr>\n    <tr>\n      <th>0</th>\n      <td>39.0</td>\n      <td>257.193162</td>\n      <td>357.165591</td>\n      <td>CanMove</td>\n    </tr>\n    <tr>\n      <th>1</th>\n      <td>34.0</td>\n      <td>269.376471</td>\n      <td>334.211111</td>\n      <td>CanMove</td>\n    </tr>\n    <tr>\n      <th>2</th>\n      <td>29.0</td>\n      <td>269.765517</td>\n      <td>338.356098</td>\n      <td>CanMove</td>\n    </tr>\n    <tr>\n      <th>3</th>\n      <td>55.0</td>\n      <td>263.072727</td>\n      <td>477.493333</td>\n      <td>CanMove</td>\n    </tr>\n    <tr>\n      <th>4</th>\n      <td>33.0</td>\n      <td>272.434343</td>\n      <td>357.567568</td>\n      <td>CanMove</td>\n    </tr>\n    <tr>\n      <th>5</th>\n      <td>31.0</td>\n      <td>262.808602</td>\n      <td>344.591453</td>\n      <td>CanMove</td>\n    </tr>\n    <tr>\n      <th>6</th>\n      <td>31.0</td>\n      <td>266.843011</td>\n      <td>351.029060</td>\n      <td>CanMove</td>\n    </tr>\n    <tr>\n      <th>7</th>\n      <td>19.0</td>\n      <td>271.231579</td>\n      <td>313.105882</td>\n      <td>CanMove</td>\n    </tr>\n  </tbody>\n</table>\n</div>"
     },
     "execution_count": 6,
     "metadata": {},
     "output_type": "execute_result"
    }
   ],
   "source": [
    "merged_dropped"
   ],
   "metadata": {
    "collapsed": false,
    "pycharm": {
     "name": "#%%\n"
    }
   }
  },
  {
   "cell_type": "code",
   "execution_count": 8,
   "outputs": [
    {
     "name": "stdout",
     "output_type": "stream",
     "text": [
      "KruskalResult(statistic=5.369822485207106, pvalue=0.020488062527199803)\n",
      "KruskalResult(statistic=2.161764705882355, pvalue=0.141482121482789)\n",
      "KruskalResult(statistic=3.57352941176471, pvalue=0.05870740843120496)\n"
     ]
    }
   ],
   "source": [
    "from scipy.stats import kruskal\n",
    "\n",
    "can_move = merged_dropped[merged_dropped['Type'] == 'CanMove']\n",
    "cannot_move = merged_dropped[merged_dropped['Type'] == 'CannotMove']\n",
    "\n",
    "print(kruskal(can_move.Victories, cannot_move.Victories))"
   ],
   "metadata": {
    "collapsed": false,
    "pycharm": {
     "name": "#%%\n"
    }
   }
  },
  {
   "cell_type": "code",
   "execution_count": 332,
   "outputs": [
    {
     "name": "stdout",
     "output_type": "stream",
     "text": [
      "CanMove\n"
     ]
    },
    {
     "data": {
      "text/plain": "count     8.00000\nmean     10.12500\nstd       4.94072\nmin       0.00000\n25%       9.00000\n50%      11.50000\n75%      13.25000\nmax      15.00000\ndtype: float64"
     },
     "metadata": {},
     "output_type": "display_data"
    },
    {
     "name": "stdout",
     "output_type": "stream",
     "text": [
      "Cannotmove\n"
     ]
    },
    {
     "data": {
      "text/plain": "count    8.000000\nmean     4.875000\nstd      2.900123\nmin      1.000000\n25%      2.750000\n50%      4.500000\n75%      7.250000\nmax      9.000000\ndtype: float64"
     },
     "metadata": {},
     "output_type": "display_data"
    }
   ],
   "source": [
    "import functools\n",
    "\n",
    "min_max_mapping = [1, 0, 0, 1, 1]\n",
    "def compare(v1, v2):\n",
    "    for d in range(len(v1)):\n",
    "        if v1[d] == v2[d]:\n",
    "            continue\n",
    "\n",
    "        if min_max_mapping[d] == 1:\n",
    "            if v1[d] > v2[d]:\n",
    "                return -1\n",
    "            else:\n",
    "                return 1\n",
    "        else:\n",
    "            if v1[d] < v2[d]:\n",
    "                return -1\n",
    "            else:\n",
    "                return 1\n",
    "    return 0\n",
    "\n",
    "\n",
    "scores = merged_non_expanded.fitnessLexicographic.to_list()\n",
    "\n",
    "scores.sort(key=functools.cmp_to_key(compare))\n",
    "map_type = []\n",
    "for score in scores:\n",
    "    for _, row in merged_non_expanded.iterrows():\n",
    "        if row['fitnessLexicographic'] == score:\n",
    "            map_type.append(row['Type'])\n",
    "\n",
    "can_moves = [i for i in range(len(map_type)) if map_type[i] == 'CanMove']\n",
    "\n",
    "cannot_moves = [i for i in range(len(map_type)) if map_type[i] == 'CannotMove']\n",
    "\n",
    "print(\"CanMove\")\n",
    "display(pd.Series(can_moves).describe())\n",
    "print(\"Cannotmove\")\n",
    "display(pd.Series(cannot_moves).describe())"
   ],
   "metadata": {
    "collapsed": false,
    "pycharm": {
     "name": "#%%\n"
    }
   }
  }
 ],
 "metadata": {
  "kernelspec": {
   "display_name": "Python 3",
   "language": "python",
   "name": "python3"
  },
  "language_info": {
   "codemirror_mode": {
    "name": "ipython",
    "version": 2
   },
   "file_extension": ".py",
   "mimetype": "text/x-python",
   "name": "python",
   "nbconvert_exporter": "python",
   "pygments_lexer": "ipython2",
   "version": "2.7.6"
  }
 },
 "nbformat": 4,
 "nbformat_minor": 0
}