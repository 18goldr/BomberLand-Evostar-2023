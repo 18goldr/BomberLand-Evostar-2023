{
 "cells": [
  {
   "cell_type": "code",
   "execution_count": 1,
   "metadata": {
    "collapsed": true,
    "pycharm": {
     "name": "#%%\n"
    }
   },
   "outputs": [],
   "source": [
    "\n",
    "from IPython.display import display\n",
    "import json\n",
    "import pandas as pd\n",
    "import os\n",
    "from pathlib import Path\n",
    "\n",
    "\n",
    "dirname = os.path.dirname(os.getcwd())\n",
    "cluster_folders = [\"GpResults\\\\CANNOTMOVERESULTS\", \"GpResults\\\\CANMOVERESULTS\"]\n",
    "cluster_folders = [os.path.join(dirname, folder) for folder in cluster_folders]\n",
    "\n",
    "\n",
    "def get_df(file):\n",
    "    with open(file) as f:\n",
    "        results = json.load(f)\n",
    "        return pd.json_normalize(results)\n",
    "\n",
    "def get_gp_result_files():\n",
    "    for folder in cluster_folders:\n",
    "        return [str(f) for f in Path(folder).rglob('gpResults*.json')]\n",
    "\n"
   ]
  },
  {
   "cell_type": "code",
   "execution_count": 2,
   "outputs": [],
   "source": [
    "\n",
    "files = get_gp_result_files()\n",
    "data = [get_df(f) for f in files]\n"
   ],
   "metadata": {
    "collapsed": false,
    "pycharm": {
     "name": "#%%\n"
    }
   }
  },
  {
   "cell_type": "code",
   "execution_count": 3,
   "outputs": [],
   "source": [
    "def get_guids_in_each_generation_across_runs(dfs):\n",
    "    num_generations = len(dfs[0].generations[0])\n",
    "    for i in range(len(dfs)):\n",
    "        df = dfs[i]\n",
    "        df_gens = len(df.generations[0])\n",
    "        if df_gens != num_generations:\n",
    "            raise Exception(f\"Number of generations for df {i} is {df_gens}, not {num_generations}!\")\n",
    "\n",
    "    guids_across_generations_and_runs = []\n",
    "    for i in range(num_generations):\n",
    "        ith_generations = [(pd.DataFrame(df.generations[0])).iloc[i] for df in dfs]\n",
    "        merged = []\n",
    "        for gen in ith_generations:\n",
    "            pop = pd.DataFrame(gen.population)\n",
    "            guids = [guid for guid in pop.guid]\n",
    "            merged.extend(guids)\n",
    "            #print(ind)\n",
    "        guids_across_generations_and_runs.append(merged)\n",
    "    return guids_across_generations_and_runs"
   ],
   "metadata": {
    "collapsed": false,
    "pycharm": {
     "name": "#%%\n"
    }
   }
  },
  {
   "cell_type": "code",
   "execution_count": 4,
   "outputs": [
    {
     "data": {
      "text/plain": "['995f5e3d-36cf-4eda-b7e6-c7524ed58a20',\n '17b366fe-8b15-4b2e-a738-e460a79d0cee',\n 'd1f3c729-f30f-466f-a552-9022cd476de3',\n '5145bb8e-1396-47ee-82f7-9e854cb4ab88',\n 'e7c8b0a4-e8cf-4044-b984-e6e277e7c100',\n '43096f92-f6c4-4f46-a47a-c965c23a667f',\n '029cdb91-687e-4261-a359-0a3c16176b06',\n 'a9047259-fc1d-4671-b129-5c1294d5e59d',\n '1987f371-c333-48be-a75b-eee3c18d0f64',\n 'a322aff5-1ce9-4362-9310-f9de973f470c',\n 'eff5244b-b2b4-41b5-aff6-9fde7f605d83',\n '8d9ba8d7-bdf9-4efb-a7cc-74b2376bd76b',\n '35f4a397-080d-4761-ab0b-924335722e74',\n '6a178c6c-1ccc-4c7e-af40-91b6d36c4b19',\n '2d8ca9c8-ddc0-4fd0-9621-d42d436a10f9',\n 'e8f3bfee-7aeb-40d5-ae3a-eb1ee1c9755b',\n 'a33601fc-3c22-44e8-ba17-3bda60b94dc6',\n '492f1205-3925-4656-9863-2e8328f1af2d',\n '55040ea5-210d-45a9-9409-cc056f77fe23',\n '504d549d-c9b9-4bf3-b5ec-5fdb2a2de71d',\n '47c5adcc-16a1-4bff-ae0a-2bd88bce33cc',\n 'b2b3a99c-3091-42d3-b7d0-f7eb2891b050',\n '209871f8-75c9-414c-8ba2-4ca96d55c508',\n '88f94e15-c2eb-4bea-b0f5-bafe5878d4a7',\n '8f484a72-8e79-4a5b-b9d5-caa4dfc9cbc8',\n '3e14d827-dfba-4982-9129-7c757a3470f6',\n '55f0c9db-01b2-4883-82d7-ad111d699246',\n '4dca0653-2af0-4e85-a7e2-272f113496eb',\n '034de22c-70e4-4cb8-b8c7-da414cbc2113',\n 'a6a3b8ba-79be-4993-8604-6633b8105926',\n '95ae2b36-ca90-411e-bc70-39a9f41a6af7',\n '0730bcff-cce7-47da-94ce-26dc51c1ce52',\n 'b21477c8-a935-488b-839f-a2ce1791da94',\n '13883c9c-c8b1-4827-a40f-98a23d7ca768',\n '0139ead0-925c-421d-8900-a7e36992fc51',\n '0aecddc0-da31-4ebf-b33d-4f711ecc84d7',\n '05d35775-ab96-4b50-92d1-f4481c7508e5',\n '9420aca6-ca0b-4add-9914-5e085af435dc',\n '00648e18-21ad-43f7-9940-ed396be56572',\n '12c1eb55-71e5-47fc-b660-4487cc681a2f',\n 'd4ec3300-9ae8-4751-a826-7609e75fe7c5',\n '1e9ed3f0-9b11-4cc3-9fcf-369f8292c399',\n '418879f6-7b11-42b1-b2f2-d48a0c9f3240',\n '0311d496-a346-4d69-8376-7c30517fd086',\n 'bdc28339-8087-4afa-8c6f-73372fd8a292',\n '57db62ed-2cbb-41d4-abc1-242ae051d522',\n 'eae5f6e5-af5e-4978-82b1-37295d3b8e76',\n 'aec0aba5-06d2-4064-8b48-061eef1ecbcd',\n 'b6199c9f-e600-457c-ac6c-47160974754f',\n '8bc0a0c8-04db-45b1-a125-d33c1e22eb95',\n '353e252d-2d3e-420b-8e5c-2ee7ac41ea0e',\n 'fa4b3e54-68d5-43dc-be01-068cb81820ff',\n '02a09252-1813-4e10-9489-1a2e95258f44',\n 'bf6fa852-7991-4c8f-b2a3-d9166cb9a6c2',\n '0937f54e-6f4e-46dc-8a71-47f9af8ac464',\n '455515a1-8e3c-46ff-a206-25cbee484b80',\n '32d8da4a-9377-4eda-8df5-15278980f875',\n 'ee514547-5790-419a-b46c-8dbe0086ac68',\n '0924d419-1571-4d81-8289-b0528b504a31',\n '1bfc7d0d-5cfc-4b67-994d-3f70d3555947',\n '2abfaf2e-5d68-4720-8528-8ffa30d23357',\n '432c3433-18f3-4a34-aec9-3c341d31db07',\n '2e809584-819d-4749-a93e-405b50361fd8',\n '831ac9c7-d49e-49e8-8575-435ef2c054dd',\n 'ebf71490-6be3-497b-9310-c07df3a1c82b',\n '7eb42d83-22f8-4bed-88e1-40a8e5a4ab81',\n '038d3250-db82-4aff-b609-23355e4b22ff',\n '7bcee30f-9319-4792-b7d9-f36f7d8001e9',\n 'a37d318c-53ba-4d2d-91de-5dff83920f66',\n '146a0aec-f65a-4dad-9813-4271654de823',\n '5a2b0b50-4411-4d58-b8b1-1842d0af958d',\n '59a5b067-56e1-4402-962d-d0cf1e58896f',\n '1d7d02ec-b922-4c7a-b9d0-1eda5923ebe5',\n 'ed2237b0-375d-4d94-966a-a483c248e6b3',\n 'c1ee1941-c7e8-4bb8-be67-2a320f78660b',\n 'aa8b25be-6a26-4b6f-ad20-473a50c2cd52',\n '47b57f16-db9f-4c4b-8095-88dbb670db55',\n '96de07f4-f059-4aed-a12e-349a4037971a',\n 'fd375d83-f5f5-4025-b135-e413f5fe15ce',\n 'eb55e68e-18ad-4be1-8aef-77d4f2f1e05a']"
     },
     "metadata": {},
     "output_type": "display_data"
    }
   ],
   "source": [
    "guids_across_gens_and_runs = get_guids_in_each_generation_across_runs(data)\n",
    "display(guids_across_gens_and_runs[0])"
   ],
   "metadata": {
    "collapsed": false,
    "pycharm": {
     "name": "#%%\n"
    }
   }
  },
  {
   "cell_type": "code",
   "execution_count": 5,
   "outputs": [
    {
     "name": "stdout",
     "output_type": "stream",
     "text": [
      "756\n"
     ]
    }
   ],
   "source": [
    "unique_guids = set()\n",
    "print(sum([len(l[0]) for l in guids_across_gens_and_runs]))\n",
    "for gen in guids_across_gens_and_runs:\n",
    "    for guid in gen:\n",
    "        unique_guids.add(guid)"
   ],
   "metadata": {
    "collapsed": false,
    "pycharm": {
     "name": "#%%\n"
    }
   }
  },
  {
   "cell_type": "code",
   "execution_count": 6,
   "outputs": [],
   "source": [
    "age_per_ind_per_gen = {}\n",
    "num_gens = len(data[0].generations[0])\n",
    "for gen in range(num_gens):\n",
    "    # display(guids_across_gens_and_runs[gen])\n",
    "    age_per_ind_for_this_gen = {}\n",
    "    for guid in guids_across_gens_and_runs[gen]:\n",
    "        if gen > 0 and guid in age_per_ind_per_gen[gen - 1]:\n",
    "            age_per_ind_for_this_gen[guid] = age_per_ind_per_gen[gen - 1][guid] + 1\n",
    "        else:\n",
    "            age_per_ind_for_this_gen[guid] = 0\n",
    "    age_per_ind_per_gen[gen] = age_per_ind_for_this_gen\n",
    "\n",
    "elite_size = 5\n",
    "num_runs = 16\n",
    "for gen in range(num_gens):\n",
    "    ages_for_gen = age_per_ind_per_gen[gen].values()\n",
    "\n",
    "    any_too_old = any([age > gen for age in ages_for_gen])\n",
    "    if any_too_old:\n",
    "        raise Exception(f\"Too old for generation {gen}\")\n",
    "\n",
    "    num_older_than_zero = len([age for age in ages_for_gen if age > 0])\n",
    "    if num_older_than_zero > elite_size * num_runs:\n",
    "        raise Exception(f\"Too many older than zero for gen {gen}. Num = {num_older_than_zero}, Max = {elite_size * num_runs}\")\n"
   ],
   "metadata": {
    "collapsed": false,
    "pycharm": {
     "name": "#%%\n"
    }
   }
  },
  {
   "cell_type": "code",
   "execution_count": 7,
   "outputs": [
    {
     "data": {
      "text/plain": "<AxesSubplot: >"
     },
     "execution_count": 7,
     "metadata": {},
     "output_type": "execute_result"
    },
    {
     "data": {
      "text/plain": "<Figure size 640x480 with 1 Axes>",
      "image/png": "[encoded data removed]"
     },
     "metadata": {},
     "output_type": "display_data"
    }
   ],
   "source": [
    "df = pd.DataFrame.from_dict(age_per_ind_per_gen)\n",
    "df.plot.box()\n"
   ],
   "metadata": {
    "collapsed": false,
    "pycharm": {
     "name": "#%%\n"
    }
   }
  },
  {
   "cell_type": "code",
   "execution_count": 8,
   "outputs": [
    {
     "data": {
      "text/plain": "<AxesSubplot: >"
     },
     "execution_count": 8,
     "metadata": {},
     "output_type": "execute_result"
    },
    {
     "data": {
      "text/plain": "<Figure size 640x480 with 1 Axes>",
      "image/png": "[encoded data removed]"
     },
     "metadata": {},
     "output_type": "display_data"
    }
   ],
   "source": [
    "df.median().plot(kind='bar')"
   ],
   "metadata": {
    "collapsed": false,
    "pycharm": {
     "name": "#%%\n"
    }
   }
  },
  {
   "cell_type": "code",
   "execution_count": 8,
   "outputs": [],
   "source": [],
   "metadata": {
    "collapsed": false,
    "pycharm": {
     "name": "#%%\n"
    }
   }
  }
 ],
 "metadata": {
  "kernelspec": {
   "display_name": "Python 3",
   "language": "python",
   "name": "python3"
  },
  "language_info": {
   "codemirror_mode": {
    "name": "ipython",
    "version": 2
   },
   "file_extension": ".py",
   "mimetype": "text/x-python",
   "name": "python",
   "nbconvert_exporter": "python",
   "pygments_lexer": "ipython2",
   "version": "2.7.6"
  }
 },
 "nbformat": 4,
 "nbformat_minor": 0
}